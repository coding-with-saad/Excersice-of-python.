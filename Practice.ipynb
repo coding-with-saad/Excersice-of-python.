{
 "cells": [
  {
   "cell_type": "code",
   "execution_count": 1,
   "metadata": {},
   "outputs": [
    {
     "name": "stdout",
     "output_type": "stream",
     "text": [
      "saif\n"
     ]
    }
   ],
   "source": [
    "print(\"saif\")"
   ]
  },
  {
   "cell_type": "code",
   "execution_count": 2,
   "metadata": {},
   "outputs": [
    {
     "name": "stdout",
     "output_type": "stream",
     "text": [
      "1 is greater\n",
      "4.0\n",
      "2 si greater\n",
      "88.0\n"
     ]
    }
   ],
   "source": [
    "def saad(a,b):\n",
    "   mean=(a*b/a+b)\n",
    "   print(mean)\n",
    "def saif(a,b):\n",
    "    if(a>b):\n",
    "        print(\"1 is greater\")\n",
    "    else:\n",
    "        print(\"2 si greater\") \n",
    "c=3\n",
    "b=2\n",
    "saif(c,b)\n",
    "#if(c>b):\n",
    " #  print(\"c is greater\")\n",
    "#else:\n",
    " #  print(\"b si greater\")\n",
    "saad(c,b)   \n",
    "e=22\n",
    "g=44\n",
    "saif(e,g)\n",
    "saad(e,g)"
   ]
  },
  {
   "cell_type": "code",
   "execution_count": 3,
   "metadata": {},
   "outputs": [
    {
     "name": "stdout",
     "output_type": "stream",
     "text": [
      "saad 7.0\n"
     ]
    }
   ],
   "source": [
    "def saad(a=4,b=6):\n",
    "    print(\"saad\",(a+b/2))\n",
    "saad()\n"
   ]
  },
  {
   "cell_type": "code",
   "execution_count": 4,
   "metadata": {},
   "outputs": [
    {
     "name": "stdout",
     "output_type": "stream",
     "text": [
      "saad 7.0\n"
     ]
    }
   ],
   "source": [
    "def saad(a,b):\n",
    "    print(\"saad\",(a+b/2))\n",
    "saad(4,6)"
   ]
  },
  {
   "cell_type": "code",
   "execution_count": 5,
   "metadata": {},
   "outputs": [
    {
     "name": "stdout",
     "output_type": "stream",
     "text": [
      "saad 7.0\n"
     ]
    }
   ],
   "source": [
    "saad(4,6)\n",
    "def saad(x,y):\n",
    "    print(\"saad\",(x+y/2))\n"
   ]
  },
  {
   "cell_type": "code",
   "execution_count": 6,
   "metadata": {},
   "outputs": [
    {
     "name": "stdout",
     "output_type": "stream",
     "text": [
      "Hello, saad Jhon Whatson\n"
     ]
    }
   ],
   "source": [
    "def name(fname, mname = \"Jhon\", lname = \"Whatson\"):\n",
    "    print(\"Hello,\", fname, mname, lname)\n",
    "\n",
    "name(\"saad\")"
   ]
  },
  {
   "cell_type": "code",
   "execution_count": 7,
   "metadata": {},
   "outputs": [
    {
     "name": "stdout",
     "output_type": "stream",
     "text": [
      "Hello, Peter Quill op\n"
     ]
    }
   ],
   "source": [
    "def name(fname, mname, lname):\n",
    "    print(\"Hello,\", fname, mname, lname)\n",
    "\n",
    "name(\"Peter\", \"Quill\",\"op\")"
   ]
  },
  {
   "cell_type": "code",
   "execution_count": 8,
   "metadata": {},
   "outputs": [
    {
     "name": "stdout",
     "output_type": "stream",
     "text": [
      "0.25\n"
     ]
    }
   ],
   "source": [
    "def average(*numbers):\n",
    "  # print(type(numbers))\n",
    "   sum = 0\n",
    "   for i in numbers:\n",
    "    sum = sum + i\n",
    "  # print(\"Average is: \", sum / len(numbers))\n",
    "    return sum / len(numbers)\n",
    "c=average(1,2,3,4)\n",
    "print(c)"
   ]
  },
  {
   "cell_type": "code",
   "execution_count": 9,
   "metadata": {},
   "outputs": [
    {
     "name": "stdout",
     "output_type": "stream",
     "text": [
      "Average is:  5.75\n"
     ]
    }
   ],
   "source": [
    "def average(*numbers):\n",
    "    #print(type(numbers))\n",
    "    sum = 0\n",
    "    for i in numbers:\n",
    "        sum = sum + i\n",
    "    print(\"Average is: \", sum / len(numbers))\n",
    "average(4,4,7,8)"
   ]
  },
  {
   "cell_type": "code",
   "execution_count": 10,
   "metadata": {},
   "outputs": [
    {
     "name": "stdout",
     "output_type": "stream",
     "text": [
      "lista: ['saif', 2, 'saad', 3, 'ali', 4]\n"
     ]
    }
   ],
   "source": [
    "lista=['saif',2,'saad',3,'ali',4]\n",
    "print('lista:',lista)"
   ]
  },
  {
   "cell_type": "code",
   "execution_count": 11,
   "metadata": {},
   "outputs": [
    {
     "name": "stdout",
     "output_type": "stream",
     "text": [
      "9\n"
     ]
    }
   ],
   "source": [
    "sum =7\n",
    "sum1=2\n",
    "sum3=sum1+sum\n",
    "print(sum3)"
   ]
  },
  {
   "cell_type": "code",
   "execution_count": 12,
   "metadata": {},
   "outputs": [
    {
     "ename": "NameError",
     "evalue": "name 'CustomInt' is not defined",
     "output_type": "error",
     "traceback": [
      "\u001b[1;31m---------------------------------------------------------------------------\u001b[0m",
      "\u001b[1;31mNameError\u001b[0m                                 Traceback (most recent call last)",
      "Cell \u001b[1;32mIn[12], line 1\u001b[0m\n\u001b[1;32m----> 1\u001b[0m a \u001b[38;5;241m=\u001b[39m \u001b[43mCustomInt\u001b[49m(\u001b[38;5;241m7\u001b[39m)\n\u001b[0;32m      2\u001b[0m b \u001b[38;5;241m=\u001b[39m CustomInt(\u001b[38;5;241m2\u001b[39m)\n\u001b[0;32m      3\u001b[0m result \u001b[38;5;241m=\u001b[39m a \u001b[38;5;241m+\u001b[39m b\n",
      "\u001b[1;31mNameError\u001b[0m: name 'CustomInt' is not defined"
     ]
    }
   ],
   "source": [
    "a = CustomInt(7)\n",
    "b = CustomInt(2)\n",
    "result = a + b\n",
    "print(result)"
   ]
  },
  {
   "cell_type": "code",
   "execution_count": 8,
   "metadata": {},
   "outputs": [
    {
     "name": "stdout",
     "output_type": "stream",
     "text": [
      "Yellow is absent.\n"
     ]
    }
   ],
   "source": [
    "colors = [\"Red\", \"Green\", \"Blue\", \"Green\"]\n",
    "if \"Yellow\" in colors:\n",
    "    print(\"Yellow is present.\")\n",
    "else:\n",
    "    print(\"Yellow is absent.\")"
   ]
  },
  {
   "cell_type": "code",
   "execution_count": 29,
   "metadata": {},
   "outputs": [
    {
     "name": "stdout",
     "output_type": "stream",
     "text": [
      "9\n",
      "9\n",
      "yes\n",
      "['2', '3', '4', '5', 6, 7, 8, 9]\n",
      "['1', '2', '3', '4', '5', 6, 7, 8, 9]\n",
      "['2', 6]\n"
     ]
    }
   ],
   "source": [
    "saad=[\"1\",\"2\",\"3\",\"4\",\"5\",6,7,8,9,0]\n",
    "print(saad[-2])\n",
    "print(saad[len(saad)-2])\n",
    "if \"5\" in saad:\n",
    "    print(\"yes\")\n",
    "print(saad[1:9])  \n",
    "print(saad[0:9])  \n",
    "print(saad[1:9:4])  "
   ]
  },
  {
   "cell_type": "code",
   "execution_count": 32,
   "metadata": {},
   "outputs": [
    {
     "name": "stdout",
     "output_type": "stream",
     "text": [
      "[0, 1, 4, 9, 16, 25, 36, 49, 64, 81]\n",
      "[0, 4, 16, 36, 64]\n"
     ]
    }
   ],
   "source": [
    "lst = [i*i for i in range(10)]\n",
    "print(lst)\n",
    "lst = [i*i for i in range(10) if i%2==0]\n",
    "print(lst)"
   ]
  },
  {
   "cell_type": "code",
   "execution_count": 40,
   "metadata": {},
   "outputs": [
    {
     "name": "stdout",
     "output_type": "stream",
     "text": [
      "[0, 1, 4, 9, 16, 25, 36, 49, 64, 81, 100, 121, 144, 169, 196, 225, 256, 289, 324, 361]\n",
      "[0, 4, 16, 36, 64]\n"
     ]
    }
   ],
   "source": [
    "saad=[saif*saif for saif in range(20)]\n",
    "print(saad)\n",
    "saad=[saif*saif for saif in range(10) if saif%2==0]\n",
    "print(saad)\n",
    "\n",
    "\n"
   ]
  },
  {
   "cell_type": "code",
   "execution_count": 62,
   "metadata": {},
   "outputs": [
    {
     "name": "stdout",
     "output_type": "stream",
     "text": [
      "[11, 45, 1, 2, 4, 6, 1, 1, 7]\n",
      "[45, 11, 7, 6, 4, 2, 1, 1, 1]\n",
      "[1, 1, 1, 2, 4, 6, 7, 11, 45]\n",
      "0\n",
      "3\n",
      "[1, 1, 1, 2, 4, 6, 7, 11, 45]\n",
      "[1, 899, 1, 1, 2, 4, 6, 7, 11, 45]\n",
      "[1, 899, 1, 1, 2, 4, 6, 7, 11, 45, 300, 200, 500]\n"
     ]
    }
   ],
   "source": [
    "l = [11, 45, 1, 2, 4, 6, 1, 1]\n",
    "l.append(7)\n",
    "print(l)\n",
    "l.sort(reverse=True)\n",
    "print(l)\n",
    "l.reverse()\n",
    "print(l)\n",
    "print(l.index(1))\n",
    "print(l.count(1))\n",
    "m=l.copy()\n",
    "print(l)\n",
    "l.insert(1,899)\n",
    "print(l)\n",
    "m=[300,200,500]\n",
    "l.extend(m)\n",
    "print(l)"
   ]
  },
  {
   "cell_type": "code",
   "execution_count": 55,
   "metadata": {},
   "outputs": [
    {
     "name": "stdout",
     "output_type": "stream",
     "text": [
      "[11, 45, 1, 2, 4, 6, 1, 1]\n",
      "[1, 1, 6, 4, 2, 1, 45, 11]\n"
     ]
    }
   ],
   "source": [
    "saad = [11, 45, 1, 2, 4, 6, 1, 1]\n",
    "print(saad)\n",
    "saad.reverse()\n",
    "print(saad)"
   ]
  },
  {
   "cell_type": "code",
   "execution_count": 56,
   "metadata": {},
   "outputs": [
    {
     "name": "stdout",
     "output_type": "stream",
     "text": [
      "[1, 2, 3, 4, 5, 6]\n"
     ]
    }
   ],
   "source": [
    "saif=[1,2,3,4,5]\n",
    "saif.append(6)\n",
    "print(saif)"
   ]
  },
  {
   "cell_type": "code",
   "execution_count": 76,
   "metadata": {},
   "outputs": [
    {
     "name": "stdout",
     "output_type": "stream",
     "text": [
      "['Spain', 'Italy', 'Finland', 'Germany', 'Russia']\n"
     ]
    }
   ],
   "source": [
    "countries = (\"Spain\", \"Italy\", \"India\", \"England\", \"Germany\")\n",
    "temp = list(countries)\n",
    "temp.append(\"Russia\")       #add item \n",
    "temp.pop(3)                 #remove item\n",
    "temp[2] = \"Finland\"         #change item\n",
    "print(temp)"
   ]
  },
  {
   "cell_type": "code",
   "execution_count": 72,
   "metadata": {},
   "outputs": [
    {
     "name": "stdout",
     "output_type": "stream",
     "text": [
      "['Spain', 'Italy', 'India', 'England', 'Germany', 'Russia']\n",
      "['Spain', 'Italy', 'India', 'Germany', 'Russia']\n",
      "['Spain', 'Italy', 'Finland', 'Germany', 'Russia']\n"
     ]
    }
   ],
   "source": [
    "countries = (\"Spain\", \"Italy\", \"India\", \"England\", \"Germany\")\n",
    "temp = list(countries)\n",
    "temp.append(\"Russia\")       #add item \n",
    "print(temp)\n",
    "temp.pop(3) \n",
    "print(temp)\n",
    "temp[2] = \"Finland\"\n",
    "print(temp)"
   ]
  },
  {
   "cell_type": "code",
   "execution_count": 12,
   "metadata": {},
   "outputs": [
    {
     "name": "stdout",
     "output_type": "stream",
     "text": [
      "04:44:39\n",
      "04\n",
      "44\n",
      "39\n"
     ]
    }
   ],
   "source": [
    "import time\n",
    "timestamp = time.strftime('%H:%M:%S')\n",
    "print(timestamp)\n",
    "timestamp = time.strftime('%H')\n",
    "print(timestamp)\n",
    "timestamp = time.strftime('%M')\n",
    "print(timestamp)\n",
    "timestamp = time.strftime('%S')\n",
    "print(timestamp)\n",
    "# https://docs.python.org/3/library/time.html#time.strftime"
   ]
  },
  {
   "cell_type": "code",
   "execution_count": 13,
   "metadata": {},
   "outputs": [
    {
     "ename": "ValueError",
     "evalue": "Invalid format string",
     "output_type": "error",
     "traceback": [
      "\u001b[1;31m---------------------------------------------------------------------------\u001b[0m",
      "\u001b[1;31mValueError\u001b[0m                                Traceback (most recent call last)",
      "Cell \u001b[1;32mIn[13], line 2\u001b[0m\n\u001b[0;32m      1\u001b[0m \u001b[38;5;28;01mimport\u001b[39;00m \u001b[38;5;21;01mtime\u001b[39;00m\n\u001b[1;32m----> 2\u001b[0m timestamp \u001b[38;5;241m=\u001b[39m\u001b[43mtime\u001b[49m\u001b[38;5;241;43m.\u001b[39;49m\u001b[43mstrftime\u001b[49m\u001b[43m(\u001b[49m\u001b[38;5;124;43m'\u001b[39;49m\u001b[38;5;124;43m%\u001b[39;49m\u001b[38;5;124;43mh:\u001b[39;49m\u001b[38;5;124;43m%\u001b[39;49m\u001b[38;5;124;43mm:\u001b[39;49m\u001b[38;5;132;43;01m%s\u001b[39;49;00m\u001b[38;5;124;43m'\u001b[39;49m\u001b[43m)\u001b[49m\n\u001b[0;32m      3\u001b[0m \u001b[38;5;28mprint\u001b[39m(timestamp)\n",
      "\u001b[1;31mValueError\u001b[0m: Invalid format string"
     ]
    }
   ],
   "source": [
    "import time\n",
    "timestamp = time.strftime('%h:%m:%s')\n",
    "print(timestamp)"
   ]
  },
  {
   "cell_type": "code",
   "execution_count": null,
   "metadata": {},
   "outputs": [],
   "source": [
    "import time\n",
    "timestamp = time.strftime('%H:%M:%S')\n",
    "print(timestamp)\n",
    "timestamp = time.strftime('%H')\n",
    "print(timestamp)\n",
    "timestamp = time.strftime('%M')\n",
    "print(timestamp)\n",
    "timestamp = time.strftime('%S')\n",
    "print(timestamp)\n",
    "# https://docs.python.org/3/library/time.html#time.strftime"
   ]
  },
  {
   "cell_type": "code",
   "execution_count": 14,
   "metadata": {},
   "outputs": [
    {
     "name": "stdout",
     "output_type": "stream",
     "text": [
      "04:49:52\n"
     ]
    }
   ],
   "source": [
    "import time\n",
    "timestamp = time.strftime('%H:%M:%S')\n",
    "print(timestamp)"
   ]
  },
  {
   "cell_type": "code",
   "execution_count": 38,
   "metadata": {},
   "outputs": [
    {
     "name": "stdout",
     "output_type": "stream",
     "text": [
      "time 05:08:14\n",
      "5\n",
      "8\n",
      "14\n",
      "good morning\n"
     ]
    }
   ],
   "source": [
    "import time\n",
    "t = time.strftime('%H:%M:%S')\n",
    "hour=int(time.strftime(\"%H\"))\n",
    "#hour = int(input(\"Enter hour: \"))\n",
    "print(\"time\",t)\n",
    "print(hour)\n",
    "minute=int(time.strftime(\"%M\"))\n",
    "print(minute)\n",
    "second=int(time.strftime(\"%S\"))\n",
    "print(second)\n",
    "if (hour>0 and hour<12):\n",
    "    print(\"good morning\")\n",
    "elif(hour>12 and hour<18):\n",
    "    print(\"hgdiugiog\")\n",
    "elif(hour>18 and hour<24):\n",
    "    print(\"saif\")\n",
    "else:\n",
    "    (\"program waar gaya\")"
   ]
  },
  {
   "cell_type": "code",
   "execution_count": 36,
   "metadata": {},
   "outputs": [
    {
     "name": "stdout",
     "output_type": "stream",
     "text": [
      "time 05:05:41\n",
      "10\n"
     ]
    }
   ],
   "source": [
    "import time\n",
    "t = time.strftime('%H:%M:%S')\n",
    "hour=int(time.strftime(\"%H\"))\n",
    "print(\"time\",t)\n",
    "print(hour)"
   ]
  },
  {
   "cell_type": "code",
   "execution_count": 37,
   "metadata": {},
   "outputs": [
    {
     "name": "stdout",
     "output_type": "stream",
     "text": [
      "time 05:06:14\n",
      "45\n"
     ]
    }
   ],
   "source": [
    "import time\n",
    "t = time.strftime('%H:%M:%S')\n",
    "hour = int(input(\"Enter hour: \"))\n",
    "print(\"time\",t)\n",
    "print(hour)"
   ]
  },
  {
   "cell_type": "code",
   "execution_count": 41,
   "metadata": {},
   "outputs": [
    {
     "name": "stdout",
     "output_type": "stream",
     "text": [
      "30 hours is equal to 108000 seconds.\n"
     ]
    }
   ],
   "source": [
    "# Convert hours to seconds\n",
    "hours = int(input(\"Enter hours: \"))\n",
    "seconds = hours * 3600\n",
    "print(f\"{hours} hours is equal to {seconds} seconds.\")\n"
   ]
  },
  {
   "cell_type": "code",
   "execution_count": 7,
   "metadata": {},
   "outputs": [
    {
     "name": "stdout",
     "output_type": "stream",
     "text": [
      "my name is saif i am 18\n"
     ]
    }
   ],
   "source": [
    "info = \"my name is {} i am {}\"\n",
    "name=\"saif\"\n",
    "age=\"18\"\n",
    "print(info.format(name,age))\n"
   ]
  },
  {
   "cell_type": "code",
   "execution_count": 12,
   "metadata": {},
   "outputs": [
    {
     "name": "stdout",
     "output_type": "stream",
     "text": [
      "For only 49.10 dollars!\n"
     ]
    }
   ],
   "source": [
    "price = 49.09999\n",
    "txt = f\"For only {price:.2f} dollars!\"\n",
    "print(txt)"
   ]
  },
  {
   "cell_type": "code",
   "execution_count": 13,
   "metadata": {},
   "outputs": [
    {
     "name": "stdout",
     "output_type": "stream",
     "text": [
      "<class 'str'>\n"
     ]
    }
   ],
   "source": [
    "print(type(f\"{2 * 30}\"))"
   ]
  },
  {
   "cell_type": "code",
   "execution_count": 14,
   "metadata": {},
   "outputs": [
    {
     "name": "stdout",
     "output_type": "stream",
     "text": [
      "60\n"
     ]
    }
   ],
   "source": [
    "print((f\"{2 * 30}\"))"
   ]
  },
  {
   "cell_type": "code",
   "execution_count": 15,
   "metadata": {},
   "outputs": [
    {
     "name": "stdout",
     "output_type": "stream",
     "text": [
      "The Zen of Python, by Tim Peters\n",
      "\n",
      "Beautiful is better than ugly.\n",
      "Explicit is better than implicit.\n",
      "Simple is better than complex.\n",
      "Complex is better than complicated.\n",
      "Flat is better than nested.\n",
      "Sparse is better than dense.\n",
      "Readability counts.\n",
      "Special cases aren't special enough to break the rules.\n",
      "Although practicality beats purity.\n",
      "Errors should never pass silently.\n",
      "Unless explicitly silenced.\n",
      "In the face of ambiguity, refuse the temptation to guess.\n",
      "There should be one-- and preferably only one --obvious way to do it.\n",
      "Although that way may not be obvious at first unless you're Dutch.\n",
      "Now is better than never.\n",
      "Although never is often better than *right* now.\n",
      "If the implementation is hard to explain, it's a bad idea.\n",
      "If the implementation is easy to explain, it may be a good idea.\n",
      "Namespaces are one honking great idea -- let's do more of those!\n"
     ]
    }
   ],
   "source": [
    "import this"
   ]
  },
  {
   "cell_type": "code",
   "execution_count": 16,
   "metadata": {},
   "outputs": [
    {
     "name": "stdout",
     "output_type": "stream",
     "text": [
      "25\n",
      "Takes in a number n, returns the square of n\n"
     ]
    }
   ],
   "source": [
    "def square(n):\n",
    "  '''Takes in a number n, returns the square of n'''\n",
    "  print(n**2)\n",
    "square(5)\n",
    "print(square.__doc__)"
   ]
  },
  {
   "cell_type": "code",
   "execution_count": 19,
   "metadata": {},
   "outputs": [
    {
     "ename": "SyntaxError",
     "evalue": "cannot assign to function call here. Maybe you meant '==' instead of '='? (162874534.py, line 1)",
     "output_type": "error",
     "traceback": [
      "\u001b[1;36m  Cell \u001b[1;32mIn[19], line 1\u001b[1;36m\u001b[0m\n\u001b[1;33m    factorial(7)=7*6*5*4*3*2*1\u001b[0m\n\u001b[1;37m    ^\u001b[0m\n\u001b[1;31mSyntaxError\u001b[0m\u001b[1;31m:\u001b[0m cannot assign to function call here. Maybe you meant '==' instead of '='?\n"
     ]
    }
   ],
   "source": [
    "factorial(7)=7*6*5*4*3*2*1\n",
    "print(factorial(7))\n"
   ]
  },
  {
   "cell_type": "code",
   "execution_count": 20,
   "metadata": {},
   "outputs": [
    {
     "name": "stdout",
     "output_type": "stream",
     "text": [
      "8\n",
      "5\n",
      "3\n",
      "2\n",
      "1\n",
      "1\n",
      "0\n"
     ]
    }
   ],
   "source": [
    "def fibonacci(n):\n",
    "    if n == 0:\n",
    "        return 0\n",
    "    elif n == 1:\n",
    "        return 1\n",
    "    else:\n",
    "        return fibonacci(n-1) + fibonacci(n-2)  # Recursive approach\n",
    "\n",
    "print(fibonacci(6))\n",
    "print(fibonacci(5))\n",
    "print(fibonacci(4))\n",
    "print(fibonacci(3))\n",
    "print(fibonacci(2))\n",
    "print(fibonacci(1))\n",
    "print(fibonacci(0))"
   ]
  },
  {
   "cell_type": "code",
   "execution_count": 41,
   "metadata": {},
   "outputs": [
    {
     "name": "stdout",
     "output_type": "stream",
     "text": [
      "0\n",
      "1\n",
      "1\n"
     ]
    }
   ],
   "source": [
    "a = int(input(\"Enter any number : \"))\n",
    "\n",
    "def fibonacci(n):\n",
    "    if (n == 1 or n == 0):\n",
    "        return n\n",
    "    else:\n",
    "        return fibonacci(n-1)+fibonacci(n-2)\n",
    "\n",
    "for i in range(a):\n",
    "    print(fibonacci(i))"
   ]
  },
  {
   "cell_type": "code",
   "execution_count": 24,
   "metadata": {},
   "outputs": [
    {
     "name": "stdout",
     "output_type": "stream",
     "text": [
      "The 10th term of the Fibonacci sequence is: 55\n"
     ]
    }
   ],
   "source": [
    "def fibonacci(n):\n",
    "\n",
    "  fib_sequence = [0,1]\n",
    "\n",
    "  while len(fib_sequence) <= n:\n",
    "      next_term = fib_sequence[-1] + fib_sequence[-2]\n",
    "      fib_sequence.append(next_term)\n",
    "\n",
    "  return fib_sequence\n",
    "\n",
    "# Example: Find the 10th term of the Fibonacci sequence\n",
    "n = 10\n",
    "result = fibonacci(n)\n",
    "print(f\"The {n}th term of the Fibonacci sequence is: {result[-1]}\")\n",
    "\n",
    "# ab jab poora prh liya h to like bhi krdo\n"
   ]
  },
  {
   "cell_type": "code",
   "execution_count": 37,
   "metadata": {},
   "outputs": [
    {
     "name": "stdout",
     "output_type": "stream",
     "text": [
      "factorial of 3 = 6\n"
     ]
    }
   ],
   "source": [
    "def factorial(n):\n",
    "  if(n==0 or n==1):\n",
    "    return 1\n",
    "  else:\n",
    "    return n*factorial(n-1)\n",
    "print(\"factorial of 3 =\",   factorial(3))"
   ]
  },
  {
   "cell_type": "code",
   "execution_count": 42,
   "metadata": {},
   "outputs": [
    {
     "name": "stdout",
     "output_type": "stream",
     "text": [
      "1\n",
      "1\n"
     ]
    },
    {
     "ename": "RecursionError",
     "evalue": "maximum recursion depth exceeded",
     "output_type": "error",
     "traceback": [
      "\u001b[1;31m---------------------------------------------------------------------------\u001b[0m",
      "\u001b[1;31mRecursionError\u001b[0m                            Traceback (most recent call last)",
      "Cell \u001b[1;32mIn[42], line 8\u001b[0m\n\u001b[0;32m      6\u001b[0m         \u001b[38;5;28;01mreturn\u001b[39;00m n \u001b[38;5;241m*\u001b[39mfactorial(n\u001b[38;5;241m-\u001b[39m\u001b[38;5;241m1\u001b[39m)\u001b[38;5;241m+\u001b[39mfactorial(n\u001b[38;5;241m+\u001b[39m\u001b[38;5;241m2\u001b[39m)\n\u001b[0;32m      7\u001b[0m \u001b[38;5;28;01mfor\u001b[39;00m i \u001b[38;5;129;01min\u001b[39;00m \u001b[38;5;28mrange\u001b[39m(a):\n\u001b[1;32m----> 8\u001b[0m     \u001b[38;5;28mprint\u001b[39m(\u001b[43mfactorial\u001b[49m\u001b[43m(\u001b[49m\u001b[43mi\u001b[49m\u001b[43m)\u001b[49m)\n",
      "Cell \u001b[1;32mIn[42], line 6\u001b[0m, in \u001b[0;36mfactorial\u001b[1;34m(n)\u001b[0m\n\u001b[0;32m      4\u001b[0m      \u001b[38;5;28;01mreturn\u001b[39;00m \u001b[38;5;241m1\u001b[39m\n\u001b[0;32m      5\u001b[0m \u001b[38;5;28;01melse\u001b[39;00m:\n\u001b[1;32m----> 6\u001b[0m     \u001b[38;5;28;01mreturn\u001b[39;00m n \u001b[38;5;241m*\u001b[39mfactorial(n\u001b[38;5;241m-\u001b[39m\u001b[38;5;241m1\u001b[39m)\u001b[38;5;241m+\u001b[39m\u001b[43mfactorial\u001b[49m\u001b[43m(\u001b[49m\u001b[43mn\u001b[49m\u001b[38;5;241;43m+\u001b[39;49m\u001b[38;5;241;43m2\u001b[39;49m\u001b[43m)\u001b[49m\n",
      "Cell \u001b[1;32mIn[42], line 6\u001b[0m, in \u001b[0;36mfactorial\u001b[1;34m(n)\u001b[0m\n\u001b[0;32m      4\u001b[0m      \u001b[38;5;28;01mreturn\u001b[39;00m \u001b[38;5;241m1\u001b[39m\n\u001b[0;32m      5\u001b[0m \u001b[38;5;28;01melse\u001b[39;00m:\n\u001b[1;32m----> 6\u001b[0m     \u001b[38;5;28;01mreturn\u001b[39;00m n \u001b[38;5;241m*\u001b[39m\u001b[43mfactorial\u001b[49m\u001b[43m(\u001b[49m\u001b[43mn\u001b[49m\u001b[38;5;241;43m-\u001b[39;49m\u001b[38;5;241;43m1\u001b[39;49m\u001b[43m)\u001b[49m\u001b[38;5;241m+\u001b[39mfactorial(n\u001b[38;5;241m+\u001b[39m\u001b[38;5;241m2\u001b[39m)\n",
      "    \u001b[1;31m[... skipping similar frames: factorial at line 6 (2974 times)]\u001b[0m\n",
      "Cell \u001b[1;32mIn[42], line 6\u001b[0m, in \u001b[0;36mfactorial\u001b[1;34m(n)\u001b[0m\n\u001b[0;32m      4\u001b[0m      \u001b[38;5;28;01mreturn\u001b[39;00m \u001b[38;5;241m1\u001b[39m\n\u001b[0;32m      5\u001b[0m \u001b[38;5;28;01melse\u001b[39;00m:\n\u001b[1;32m----> 6\u001b[0m     \u001b[38;5;28;01mreturn\u001b[39;00m n \u001b[38;5;241m*\u001b[39m\u001b[43mfactorial\u001b[49m\u001b[43m(\u001b[49m\u001b[43mn\u001b[49m\u001b[38;5;241;43m-\u001b[39;49m\u001b[38;5;241;43m1\u001b[39;49m\u001b[43m)\u001b[49m\u001b[38;5;241m+\u001b[39mfactorial(n\u001b[38;5;241m+\u001b[39m\u001b[38;5;241m2\u001b[39m)\n",
      "\u001b[1;31mRecursionError\u001b[0m: maximum recursion depth exceeded"
     ]
    }
   ],
   "source": [
    "a=int(input(\"enter a number:\"))\n",
    "def factorial(n):\n",
    "    if(n==0 or n==1):\n",
    "         return 1\n",
    "    else:\n",
    "        return n *factorial(n-1)+factorial(n+2)\n",
    "for i in range(a):\n",
    "    print(factorial(i))\n",
    "\n",
    "    "
   ]
  },
  {
   "cell_type": "code",
   "execution_count": 44,
   "metadata": {},
   "outputs": [
    {
     "name": "stdout",
     "output_type": "stream",
     "text": [
      "1\n",
      "1\n",
      "2\n",
      "6\n",
      "24\n",
      "120\n"
     ]
    }
   ],
   "source": [
    "a=int(input(\"enter a number:\"))\n",
    "def factorial(n):\n",
    "    if(n==0 or n==1):\n",
    "         return 1\n",
    "    else:\n",
    "        return n *factorial(n-1)\n",
    "for i in range(a):\n",
    "    print(factorial(i))\n",
    "\n",
    "    "
   ]
  },
  {
   "cell_type": "code",
   "execution_count": 11,
   "metadata": {},
   "outputs": [
    {
     "name": "stdout",
     "output_type": "stream",
     "text": [
      "<class 'str'>\n"
     ]
    }
   ],
   "source": [
    "a=\"32.2\"\n",
    "# b=type(int(a))\n",
    "# b=type(float(a))\n",
    "t=type(a)\n",
    "print(t)"
   ]
  },
  {
   "cell_type": "code",
   "execution_count": 19,
   "metadata": {},
   "outputs": [
    {
     "name": "stdout",
     "output_type": "stream",
     "text": [
      "number of a: 40\n",
      "number of b: 30\n",
      "4030\n"
     ]
    }
   ],
   "source": [
    "a=input(\"enter a number 1:\")\n",
    "b=input(\"enter a number 2:\")\n",
    "print(\"number of a:\",a)\n",
    "print(\"number of b:\",b)\n",
    "print(a+b)\n"
   ]
  },
  {
   "cell_type": "code",
   "execution_count": 20,
   "metadata": {},
   "outputs": [
    {
     "name": "stdout",
     "output_type": "stream",
     "text": [
      "number of a: 40\n",
      "number of b: 30\n",
      "70\n"
     ]
    }
   ],
   "source": [
    "a=int(input(\"enter a number 1:\"))\n",
    "b=int(input(\"enter a number 2:\"))\n",
    "print(\"number of a:\",a)\n",
    "print(\"number of b:\",b)\n",
    "print(a+b)\n"
   ]
  },
  {
   "cell_type": "code",
   "execution_count": null,
   "metadata": {},
   "outputs": [],
   "source": [
    "a=int(input(\"enter a number 1:\"))\n",
    "b=int(input(\"enter a number 2:\"))\n",
    "print(\"number of a:\",a)\n",
    "print(\"number of b:\",b)\n",
    "print(a%b)\n"
   ]
  },
  {
   "cell_type": "code",
   "execution_count": 24,
   "metadata": {},
   "outputs": [
    {
     "name": "stdout",
     "output_type": "stream",
     "text": [
      "number of a: 41\n",
      "number of b: 20\n",
      "1\n"
     ]
    }
   ],
   "source": [
    "a=int(input(\"enter a number 1:\"))\n",
    "b=int(input(\"enter a number 2:\"))\n",
    "print(\"number of a:\",a)\n",
    "print(\"number of b:\",b)\n",
    "z=a%b\n",
    "print(z)\n"
   ]
  },
  {
   "cell_type": "code",
   "execution_count": 31,
   "metadata": {},
   "outputs": [
    {
     "name": "stdout",
     "output_type": "stream",
     "text": [
      "<class 'str'>\n"
     ]
    }
   ],
   "source": [
    "a=input()\n",
    "t=type(a)\n",
    "# b=int(input(\"enter a number 2:\"))\n",
    "# print(\"number of a:\",a)\n",
    "# print(\"number of b:\",b)\n",
    "# print(a+b)\n",
    "print(t)\n"
   ]
  },
  {
   "cell_type": "code",
   "execution_count": 1,
   "metadata": {},
   "outputs": [
    {
     "name": "stdout",
     "output_type": "stream",
     "text": [
      "saad\n",
      "['saad', 'saif', 'akdojiof', 'ali']\n",
      "[0, 2, 3, 5, 6, 7, 9]\n",
      "[3, 9, 7, 5, 2, 15, 0, 6]\n",
      "[3, 9, 7, 2, 0, 6]\n",
      "[9, 7, 5, 2, 0, 6]\n"
     ]
    }
   ],
   "source": [
    "a=[\"saad\",\"saif\",'akdojiof']\n",
    "print(a[0])\n",
    "a.append(\"ali\")\n",
    "print(a)\n",
    "b=[3,9,7,5,2,0,6]\n",
    "b.sort()\n",
    "print(b)\n",
    "b=[3,9,7,5,2,0,6]\n",
    "b.insert(5,15) #5 is the place not interger\n",
    "print(b)\n",
    "b=[3,9,7,5,2,0,6]\n",
    "b.pop(3)       #3 is the place not interger\n",
    "print(b)\n",
    "b=[3,9,7,5,2,0,6]\n",
    "b.remove(3)     #3 is not a place its integer\n",
    "print(b)\n",
    "\n"
   ]
  },
  {
   "cell_type": "code",
   "execution_count": 4,
   "metadata": {},
   "outputs": [
    {
     "name": "stdout",
     "output_type": "stream",
     "text": [
      "<class 'tuple'>\n"
     ]
    },
    {
     "ename": "TypeError",
     "evalue": "'tuple' object does not support item assignment",
     "output_type": "error",
     "traceback": [
      "\u001b[1;31m---------------------------------------------------------------------------\u001b[0m",
      "\u001b[1;31mTypeError\u001b[0m                                 Traceback (most recent call last)",
      "Cell \u001b[1;32mIn[4], line 3\u001b[0m\n\u001b[0;32m      1\u001b[0m a\u001b[38;5;241m=\u001b[39m(\u001b[38;5;241m1\u001b[39m,\u001b[38;5;241m4\u001b[39m,\u001b[38;5;241m7\u001b[39m,\u001b[38;5;241m8\u001b[39m,\u001b[38;5;241m2\u001b[39m)\n\u001b[0;32m      2\u001b[0m \u001b[38;5;28mprint\u001b[39m(\u001b[38;5;28mtype\u001b[39m(a))\n\u001b[1;32m----> 3\u001b[0m \u001b[43ma\u001b[49m\u001b[43m[\u001b[49m\u001b[38;5;241;43m0\u001b[39;49m\u001b[43m]\u001b[49m\u001b[38;5;241m=\u001b[39m\u001b[38;5;124m\"\u001b[39m\u001b[38;5;124msaad\u001b[39m\u001b[38;5;124m\"\u001b[39m\n\u001b[0;32m      4\u001b[0m \u001b[38;5;28mprint\u001b[39m(a[\u001b[38;5;241m0\u001b[39m])\n",
      "\u001b[1;31mTypeError\u001b[0m: 'tuple' object does not support item assignment"
     ]
    }
   ],
   "source": [
    "a=(1,4,7,8,2)\n",
    "print(type(a))\n",
    "a[0]=\"saad\"\n",
    "print(a[0])"
   ]
  },
  {
   "cell_type": "code",
   "execution_count": 5,
   "metadata": {},
   "outputs": [
    {
     "name": "stdout",
     "output_type": "stream",
     "text": [
      "<class 'list'>\n",
      "saad\n"
     ]
    }
   ],
   "source": [
    "b=[1,2,3,4,5,6]\n",
    "print(type(b))\n",
    "b[0]=\"saad\"\n",
    "print(b[0])"
   ]
  },
  {
   "cell_type": "code",
   "execution_count": null,
   "metadata": {},
   "outputs": [],
   "source": [
    "c=\"saad\"\n",
    "print(type(c))\n",
    "c[0]=\"1\"\n",
    "print(c[0])\n",
    "\n",
    "\n"
   ]
  },
  {
   "cell_type": "code",
   "execution_count": 36,
   "metadata": {},
   "outputs": [
    {
     "name": "stdout",
     "output_type": "stream",
     "text": [
      "Current Date: 2024-09-20\n",
      "Current Time: 11:55:45\n",
      "Day of the Week: Friday\n"
     ]
    }
   ],
   "source": [
    "import datetime\n",
    "\n",
    "# Get the current date and time\n",
    "now = datetime.datetime.now()\n",
    "\n",
    "# Format the date and time\n",
    "current_date = now.strftime(\"%Y-%m-%d\")\n",
    "current_time = now.strftime(\"%H:%M:%S\")\n",
    "current_day = now.strftime(\"%A\")\n",
    "\n",
    "# Display the results\n",
    "print(\"Current Date:\", current_date)\n",
    "print(\"Current Time:\", current_time)\n",
    "print(\"Day of the Week:\", current_day)\n"
   ]
  },
  {
   "cell_type": "code",
   "execution_count": 27,
   "metadata": {},
   "outputs": [
    {
     "name": "stdout",
     "output_type": "stream",
     "text": [
      "{'Saad': 100, 'ali': 27, 'op': 449}\n"
     ]
    }
   ],
   "source": [
    "d={}    #empty set\n",
    "marks = {\n",
    "    \"Saad\": 100 ,\n",
    "    \"ali\": 27 ,\n",
    "    \"op\": 449 ,\n",
    "    \"sabi\": 70 ,\n",
    "\n",
    "}\n",
    "# print(marks,type(marks))\n",
    "# print(marks.items())\n",
    "# print(marks.keys())\n",
    "# print(marks.values())\n",
    "# marks.update({\"Saad\": 99,\"areesha\":100,})\n",
    "# print(marks)\n",
    "# print(marks.get(\"Saad2\"))   #print none or value of saad if 2 did not write\n",
    "# print(marks[\"Saad2\"])       #print value of saad if 2 did not write if 2 write it will give an error\n",
    "# marks.clear()\n",
    "marks.popitem()\n",
    "print(marks)\n"
   ]
  },
  {
   "cell_type": "code",
   "execution_count": 1,
   "metadata": {},
   "outputs": [
    {
     "name": "stdout",
     "output_type": "stream",
     "text": [
      "You failed, try again next year: 80.0\n"
     ]
    }
   ],
   "source": [
    "marks1 = int(input(\"Enter Marks 1: \"))\n",
    "marks2 = int(input(\"Enter Marks 2: \"))\n",
    "marks3 = int(input(\"Enter Marks 3: \"))\n",
    "\n",
    "# Check for total percentage\n",
    "total_percentage = (100*(marks1 + marks2 + marks3))/300\n",
    "\n",
    "if(total_percentage>=40 and marks1>=33 and marks2>=33 and marks3>=33):\n",
    "    print(\"You are passed:\", total_percentage)\n",
    "\n",
    "else:\n",
    "    print(\"You failed, try again next year:\", total_percentage)"
   ]
  },
  {
   "cell_type": "code",
   "execution_count": 1,
   "metadata": {},
   "outputs": [
    {
     "name": "stdout",
     "output_type": "stream",
     "text": [
      "The greatest number is 50.0\n"
     ]
    }
   ],
   "source": [
    "num1 = float(input(\"Enter first number: \"))\n",
    "num2 = float(input(\"Enter second number: \"))\n",
    "num3 = float(input(\"Enter third number: \"))\n",
    "num4 = float(input(\"Enter fourth number: \"))\n",
    "\n",
    "max_num = num1\n",
    "\n",
    "if num2 > max_num:\n",
    "    max_num = num2\n",
    "\n",
    "if num3 > max_num:\n",
    "    max_num = num3\n",
    "\n",
    "if num4 > max_num:\n",
    "    max_num = num4\n",
    "\n",
    "print(\"The greatest number is\", max_num)\n",
    "\n",
    "\n",
    "\n"
   ]
  },
  {
   "cell_type": "code",
   "execution_count": 2,
   "metadata": {},
   "outputs": [
    {
     "name": "stdout",
     "output_type": "stream",
     "text": [
      "The greatest number is: 78.0\n"
     ]
    }
   ],
   "source": [
    "num_list = []\n",
    "\n",
    "for i in range(4):\n",
    "    num = float(input(\"Enter a number: \"))\n",
    "    num_list.append(num)\n",
    "\n",
    "max_num = max(num_list)\n",
    "\n",
    "print(\"The greatest number is:\", max_num)"
   ]
  },
  {
   "cell_type": "code",
   "execution_count": 35,
   "metadata": {},
   "outputs": [
    {
     "name": "stdout",
     "output_type": "stream",
     "text": [
      "{1, 2, 3, 4, 5, 6, 7}\n",
      "<class 'set'>\n",
      "{1, 2, 3, 4, 5, 6, 7, 'saad'}\n",
      "{2, 3, 4, 5, 6, 7, 'saad'}\n"
     ]
    }
   ],
   "source": [
    "# s=set() #empty set\n",
    "s={1,2,3,1,2,3,4,5,6,7} #no repetition is allowed\n",
    "print(s)\n",
    "print(type(s))\n",
    "# s.add(\"saad\")\n",
    "# print(s)\n",
    "s.remove(1)\n",
    "print(s)"
   ]
  },
  {
   "cell_type": "code",
   "execution_count": 39,
   "metadata": {},
   "outputs": [
    {
     "name": "stdout",
     "output_type": "stream",
     "text": [
      "{0, 1, 2, 3, 4, 5, 6, 7, 8, 9}\n",
      "{1, 2, 3, 4, 5, 6}\n"
     ]
    }
   ],
   "source": [
    "saif={1,2,3,4,5,6}\n",
    "saad={1,2,3,4,5,6,7,8,9,0}\n",
    "print(saif.union(saad))\n",
    "print(saif.intersection(saad))"
   ]
  },
  {
   "cell_type": "code",
   "execution_count": 42,
   "metadata": {},
   "outputs": [
    {
     "name": "stdout",
     "output_type": "stream",
     "text": [
      " Life\n"
     ]
    }
   ],
   "source": [
    "words={\n",
    "\"Mohabba\": \"Love\",\n",
    "\"Dost\":     \"Friend\",\n",
    "\"Khushi\":   \"Happiness\",\n",
    "\"Kitaab\":   \"Book\",\n",
    "\"Pani\":     \"Water\",\n",
    "\"Khawab\":   \"Dream\",\n",
    "\"Khandan\":  \"Family\",\n",
    "\"Safar\":    \"Journey\",\n",
    "\"Zindagi\": \" Life\",\n",
    "\"Taleem\":   \"Education\",\n",
    "}\n",
    "word=input(\"enter the word you want a meaning:\")\n",
    "print(words[word])"
   ]
  },
  {
   "cell_type": "code",
   "execution_count": 1,
   "metadata": {},
   "outputs": [
    {
     "name": "stdout",
     "output_type": "stream",
     "text": [
      "'1984' by George Orwell, published in 1949\n"
     ]
    }
   ],
   "source": [
    "def book_info(title, author, year):\n",
    "    print(f\"'{title}' by {author}, published in {year}\")\n",
    "\n",
    "book_info(title=\"1984\", author=\"George Orwell\", year=1949)\n",
    "# Output: '1984' by George Orwell, published in 1949"
   ]
  },
  {
   "cell_type": "code",
   "execution_count": 9,
   "metadata": {},
   "outputs": [
    {
     "name": "stdout",
     "output_type": "stream",
     "text": [
      "['saad', 'saif', 'ali']\n",
      "['s', 'a', 'a', 'd']\n",
      "['saad', 'saif', 'ali', 'sabi']\n"
     ]
    }
   ],
   "source": [
    "name=[\"saad\",\"saif\",\"ali\"]\n",
    "print(name)\n",
    "# name.pop()\n",
    "# print(name)\n",
    "my_name=list(\"saad\")\n",
    "print(my_name)\n",
    "name.append(\"sabi\")\n",
    "print(name)"
   ]
  },
  {
   "cell_type": "code",
   "execution_count": 19,
   "metadata": {},
   "outputs": [
    {
     "name": "stdout",
     "output_type": "stream",
     "text": [
      "my name is Rehan\n",
      "<class '__main__.Person'>\n",
      "my name is Saad\n"
     ]
    }
   ],
   "source": [
    "class Person:\n",
    "    def __init__(self, name):\n",
    "        self.cname = name\n",
    "\n",
    "    def display_info(self):\n",
    "        print(f\"my name is {self.cname}\")\n",
    "\n",
    "new_person = Person(\"Rehan\")\n",
    "# print(new_person.__dict__)\n",
    "new_person.display_info()\n",
    "print(new_person.__class__)\n",
    "\n",
    "another_person = Person(\"Saad\")\n",
    "another_person.display_info()\n",
    "# print(another_person.__dict__)\n"
   ]
  },
  {
   "cell_type": "code",
   "execution_count": 12,
   "metadata": {},
   "outputs": [
    {
     "name": "stdout",
     "output_type": "stream",
     "text": [
      "2*1=2\n",
      "2*2=4\n",
      "2*3=6\n",
      "2*4=8\n",
      "2*5=10\n",
      "2*6=12\n",
      "2*7=14\n",
      "2*8=16\n",
      "2*9=18\n",
      "2*10=20\n",
      "\n",
      "3*1=3\n",
      "3*2=6\n",
      "3*3=9\n",
      "3*4=12\n",
      "3*5=15\n",
      "3*6=18\n",
      "3*7=21\n",
      "3*8=24\n",
      "3*9=27\n",
      "3*10=30\n",
      "\n",
      "4*1=4\n",
      "4*2=8\n",
      "4*3=12\n",
      "4*4=16\n",
      "4*5=20\n",
      "4*6=24\n",
      "4*7=28\n",
      "4*8=32\n",
      "4*9=36\n",
      "4*10=40\n",
      "\n",
      "5*1=5\n",
      "5*2=10\n",
      "5*3=15\n",
      "5*4=20\n",
      "5*5=25\n",
      "5*6=30\n",
      "5*7=35\n",
      "5*8=40\n",
      "5*9=45\n",
      "5*10=50\n",
      "\n",
      "6*1=6\n",
      "6*2=12\n",
      "6*3=18\n",
      "6*4=24\n",
      "6*5=30\n",
      "6*6=36\n",
      "6*7=42\n",
      "6*8=48\n",
      "6*9=54\n",
      "6*10=60\n",
      "\n",
      "7*1=7\n",
      "7*2=14\n",
      "7*3=21\n",
      "7*4=28\n",
      "7*5=35\n",
      "7*6=42\n",
      "7*7=49\n",
      "7*8=56\n",
      "7*9=63\n",
      "7*10=70\n",
      "\n",
      "8*1=8\n",
      "8*2=16\n",
      "8*3=24\n",
      "8*4=32\n",
      "8*5=40\n",
      "8*6=48\n",
      "8*7=56\n",
      "8*8=64\n",
      "8*9=72\n",
      "8*10=80\n",
      "\n",
      "9*1=9\n",
      "9*2=18\n",
      "9*3=27\n",
      "9*4=36\n",
      "9*5=45\n",
      "9*6=54\n",
      "9*7=63\n",
      "9*8=72\n",
      "9*9=81\n",
      "9*10=90\n",
      "\n",
      "10*1=10\n",
      "10*2=20\n",
      "10*3=30\n",
      "10*4=40\n",
      "10*5=50\n",
      "10*6=60\n",
      "10*7=70\n",
      "10*8=80\n",
      "10*9=90\n",
      "10*10=100\n",
      "\n"
     ]
    }
   ],
   "source": [
    "for number in range(2,11):\n",
    "    for i in range(1,11):\n",
    "        print(f\"{number}*{i}={number*i}\")\n",
    "    print()    "
   ]
  },
  {
   "cell_type": "code",
   "execution_count": 22,
   "metadata": {},
   "outputs": [],
   "source": [
    "# Parent class\n",
    "class User:\n",
    "    def __init__(self, username, email):\n",
    "        self.username = username\n",
    "        self.email = email\n",
    "\n",
    "    def display_user_info(self):\n",
    "        print(f\"User: {self.username}, Email: {self.email}\")"
   ]
  },
  {
   "cell_type": "code",
   "execution_count": 24,
   "metadata": {},
   "outputs": [
    {
     "ename": "SyntaxError",
     "evalue": "invalid syntax (3624804039.py, line 2)",
     "output_type": "error",
     "traceback": [
      "\u001b[1;36m  Cell \u001b[1;32mIn[24], line 2\u001b[1;36m\u001b[0m\n\u001b[1;33m    def_init_(self):\u001b[0m\n\u001b[1;37m                   ^\u001b[0m\n\u001b[1;31mSyntaxError\u001b[0m\u001b[1;31m:\u001b[0m invalid syntax\n"
     ]
    }
   ],
   "source": [
    "class admin(user):\n",
    "    def_init_(self,access_level):\n",
    "    super().__init__(username, email)\n",
    "    self.access_level =access_level\n",
    "\n",
    "\n",
    "user01=admin()\n",
    "print(user01.__dict__)"
   ]
  },
  {
   "cell_type": "markdown",
   "metadata": {},
   "source": [
    "<!-- polymorphism -->\n",
    "poly----many    morphism-----forms"
   ]
  },
  {
   "cell_type": "code",
   "execution_count": 12,
   "metadata": {},
   "outputs": [
    {
     "name": "stdout",
     "output_type": "stream",
     "text": [
      "You chose water\n",
      "Computer chose snake\n",
      "you win\n"
     ]
    }
   ],
   "source": [
    "import random\n",
    "computer=random.choice([-1,0,1])\n",
    "saif=input(\"enter the number:\")\n",
    "saad={'s':-1, 'g':0 ,'w':1}\n",
    "reversesaad={1:'snake',-1:'gun',0:'water'}\n",
    "sabi=saad[saif]\n",
    "print(f\"You chose {reversesaad[sabi]}\\nComputer chose {reversesaad[computer]}\")\n",
    "if computer==sabi:\n",
    "    print(\"draw\")\n",
    "else:\n",
    "    if(computer==-1 and sabi==1):\n",
    "        print(\"you win\")\n",
    "    elif(computer==-1 and sabi==0):\n",
    "        print(\"you lose\")\n",
    "    if(computer==1 and sabi==-1):\n",
    "        print(\"you lose\")\n",
    "    elif(computer==1 and sabi==0):\n",
    "        print(\"you win\")\n",
    "    elif(computer==0 and sabi==-1):\n",
    "        print(\"you win\")\n",
    "    elif(computer==0 and sabi==1):\n",
    "        print(\"you lose\")\n",
    "    else:\n",
    "        print(\"some thing wants wrong\")\n"
   ]
  },
  {
   "cell_type": "code",
   "execution_count": 6,
   "metadata": {},
   "outputs": [
    {
     "name": "stdout",
     "output_type": "stream",
     "text": [
      "saif python\n"
     ]
    }
   ],
   "source": [
    "class person:\n",
    "    name=\"saif\"\n",
    "    occuption=\"python developer\"\n",
    "    income=0\n",
    "a=person()\n",
    "print(a.name,a.occuption)"
   ]
  },
  {
   "cell_type": "code",
   "execution_count": 10,
   "metadata": {},
   "outputs": [
    {
     "name": "stdout",
     "output_type": "stream",
     "text": [
      "saad python\n"
     ]
    }
   ],
   "source": [
    "class person:\n",
    "    name=\"saif\"\n",
    "    occuption=\"python developer\"\n",
    "    income=0\n",
    "a=person()\n",
    "a.name=\"saad\"\n",
    "a.occuption=\"python\"\n",
    "print(a.name,a.occuption)"
   ]
  },
  {
   "cell_type": "code",
   "execution_count": 25,
   "metadata": {},
   "outputs": [
    {
     "name": "stdout",
     "output_type": "stream",
     "text": [
      "saif is a python developer and its 3500\n",
      "sabi is a games playing 24 hour and its 1200\n"
     ]
    }
   ],
   "source": [
    "class person:\n",
    "    name=\"saif\"\n",
    "    occuption=\"python developer\"\n",
    "    income=3500\n",
    "    def info(self):\n",
    "        print(f\"{self.name} is a {self.occuption} and its {self.income}\")\n",
    "\n",
    "a=person()\n",
    "b=person()\n",
    "c=person()\n",
    "b.name=\"sabi\"\n",
    "b.occuption=\"games playing 24 hour\"\n",
    "b.income=\"1200\"\n",
    "# print(a.name,a.occuption)\n",
    "a.info()\n",
    "b.info()"
   ]
  }
 ],
 "metadata": {
  "kernelspec": {
   "display_name": "Python 3",
   "language": "python",
   "name": "python3"
  },
  "language_info": {
   "codemirror_mode": {
    "name": "ipython",
    "version": 3
   },
   "file_extension": ".py",
   "mimetype": "text/x-python",
   "name": "python",
   "nbconvert_exporter": "python",
   "pygments_lexer": "ipython3",
   "version": "3.12.5"
  }
 },
 "nbformat": 4,
 "nbformat_minor": 2
}
